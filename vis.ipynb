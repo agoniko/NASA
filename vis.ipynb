{
 "cells": [
  {
   "cell_type": "code",
   "execution_count": 21,
   "id": "2ed72f88",
   "metadata": {},
   "outputs": [
    {
     "data": {
      "text/plain": [
       "step                          999.500000\n",
       "system_total_running          247.612500\n",
       "system_total_backlogged         2.262000\n",
       "system_total_stopped          149.823500\n",
       "system_total_arrived          417.044500\n",
       "system_total_departed         664.738000\n",
       "system_total_teleported         3.759000\n",
       "system_total_waiting_time    8487.730000\n",
       "system_mean_waiting_time       28.207088\n",
       "system_mean_speed               3.159753\n",
       "dtype: float64"
      ]
     },
     "execution_count": 21,
     "metadata": {},
     "output_type": "execute_result"
    }
   ],
   "source": [
    "import pandas as pd\n",
    "\n",
    "\n",
    "path = \"outputs/final/\"\n",
    "#read baseline file\n",
    "baseline = pd.read_csv(path+\"baseline.csv\")\n",
    "cols = baseline.columns\n",
    "baseline.mean()"
   ]
  },
  {
   "cell_type": "code",
   "execution_count": 22,
   "id": "7ba31a07",
   "metadata": {},
   "outputs": [
    {
     "data": {
      "text/plain": [
       "step                         1000.000000\n",
       "system_total_running          140.847880\n",
       "system_total_backlogged         3.546135\n",
       "system_total_stopped           41.249377\n",
       "system_total_arrived          522.271820\n",
       "system_total_departed         663.119701\n",
       "system_total_teleported         0.000000\n",
       "system_total_waiting_time    4201.209476\n",
       "system_mean_waiting_time       27.608677\n",
       "system_mean_speed               5.700553\n",
       "dtype: float64"
      ]
     },
     "execution_count": 22,
     "metadata": {},
     "output_type": "execute_result"
    }
   ],
   "source": [
    "#read all ql files\n",
    "import os\n",
    "\n",
    "#ql_file = \"pz_ql_conn0_ep3.csv\"\n",
    "ql_file = \"pz_ql_conn0_ep5.csv\"\n",
    "df = pd.read_csv(path+ql_file)\n",
    "df[cols].mean()"
   ]
  },
  {
   "cell_type": "code",
   "execution_count": 23,
   "id": "edc21a59",
   "metadata": {},
   "outputs": [
    {
     "name": "stdout",
     "output_type": "stream",
     "text": [
      "                            Baseline        New      Delta  Delta (%)\n",
      "step                        999.5000  1000.0000     0.5000     0.0500\n",
      "system_total_running        247.6125   140.8479  -106.7646   -43.1176\n",
      "system_total_backlogged       2.2620     3.5461     1.2841    56.7699\n",
      "system_total_stopped        149.8235    41.2494  -108.5741   -72.4680\n",
      "system_total_arrived        417.0445   522.2718   105.2273    25.2317\n",
      "system_total_departed       664.7380   663.1197    -1.6183    -0.2434\n",
      "system_total_teleported       3.7590     0.0000    -3.7590  -100.0000\n",
      "system_total_waiting_time  8487.7300  4201.2095 -4286.5205   -50.5026\n",
      "system_mean_waiting_time     28.2071    27.6087    -0.5984    -2.1215\n",
      "system_mean_speed             3.1598     5.7006     2.5408    80.4113\n"
     ]
    }
   ],
   "source": [
    "import pandas as pd\n",
    "import numpy as np # Import numpy for handling potential division by zero\n",
    "\n",
    "# --- Setup from your code ---\n",
    "path = \"outputs/final/\"\n",
    "\n",
    "# Read baseline file\n",
    "try:\n",
    "    baseline = pd.read_csv(path + \"baseline.csv\")\n",
    "    cols = baseline.columns\n",
    "\n",
    "    # Read the second file\n",
    "    #ql_file = \"pz_ql_conn0_ep3.csv\"\n",
    "    ql_file = \"pz_ql_conn0_ep5.csv\"\n",
    "\n",
    "    df = pd.read_csv(path + ql_file)\n",
    "\n",
    "    # --- Merging and Calculating Deltas ---\n",
    "\n",
    "    # 1. Calculate the mean for both DataFrames\n",
    "    baseline_mean = baseline.mean()\n",
    "    new_mean = df[cols].mean() # Ensure we only use columns present in the baseline\n",
    "\n",
    "    # 2. Merge the results into a new DataFrame for comparison\n",
    "    comparison_df = pd.DataFrame({\n",
    "        'Baseline': baseline_mean,\n",
    "        'New': new_mean\n",
    "    })\n",
    "\n",
    "    # 3. Calculate the absolute delta (difference)\n",
    "    comparison_df['Delta'] = comparison_df['New'] - comparison_df['Baseline']\n",
    "\n",
    "    # 4. Calculate the percentage delta (change)\n",
    "    # np.divide handles potential division by zero, replacing the result with infinity\n",
    "    comparison_df['Delta (%)'] = np.divide(\n",
    "        comparison_df['Delta'],\n",
    "        comparison_df['Baseline']\n",
    "    ) * 100\n",
    "\n",
    "    # Display the final comparison table\n",
    "    print(comparison_df.round(4)) # Round for cleaner output\n",
    "\n",
    "except FileNotFoundError as e:\n",
    "    print(f\"Error: Could not find the file. Make sure the path is correct.\\n{e}\")"
   ]
  },
  {
   "cell_type": "code",
   "execution_count": 24,
   "id": "2569ab57",
   "metadata": {},
   "outputs": [
    {
     "data": {
      "text/html": [
       "<div>\n",
       "<style scoped>\n",
       "    .dataframe tbody tr th:only-of-type {\n",
       "        vertical-align: middle;\n",
       "    }\n",
       "\n",
       "    .dataframe tbody tr th {\n",
       "        vertical-align: top;\n",
       "    }\n",
       "\n",
       "    .dataframe thead th {\n",
       "        text-align: right;\n",
       "    }\n",
       "</style>\n",
       "<table border=\"1\" class=\"dataframe\">\n",
       "  <thead>\n",
       "    <tr style=\"text-align: right;\">\n",
       "      <th></th>\n",
       "      <th>Baseline</th>\n",
       "      <th>New</th>\n",
       "      <th>Delta</th>\n",
       "      <th>Delta (%)</th>\n",
       "    </tr>\n",
       "  </thead>\n",
       "  <tbody>\n",
       "    <tr>\n",
       "      <th>step</th>\n",
       "      <td>999.500000</td>\n",
       "      <td>1000.000000</td>\n",
       "      <td>0.500000</td>\n",
       "      <td>0.050025</td>\n",
       "    </tr>\n",
       "    <tr>\n",
       "      <th>system_total_running</th>\n",
       "      <td>247.612500</td>\n",
       "      <td>140.847880</td>\n",
       "      <td>-106.764620</td>\n",
       "      <td>-43.117621</td>\n",
       "    </tr>\n",
       "    <tr>\n",
       "      <th>system_total_backlogged</th>\n",
       "      <td>2.262000</td>\n",
       "      <td>3.546135</td>\n",
       "      <td>1.284135</td>\n",
       "      <td>56.769879</td>\n",
       "    </tr>\n",
       "    <tr>\n",
       "      <th>system_total_stopped</th>\n",
       "      <td>149.823500</td>\n",
       "      <td>41.249377</td>\n",
       "      <td>-108.574123</td>\n",
       "      <td>-72.468020</td>\n",
       "    </tr>\n",
       "    <tr>\n",
       "      <th>system_total_arrived</th>\n",
       "      <td>417.044500</td>\n",
       "      <td>522.271820</td>\n",
       "      <td>105.227320</td>\n",
       "      <td>25.231677</td>\n",
       "    </tr>\n",
       "    <tr>\n",
       "      <th>system_total_departed</th>\n",
       "      <td>664.738000</td>\n",
       "      <td>663.119701</td>\n",
       "      <td>-1.618299</td>\n",
       "      <td>-0.243449</td>\n",
       "    </tr>\n",
       "    <tr>\n",
       "      <th>system_total_teleported</th>\n",
       "      <td>3.759000</td>\n",
       "      <td>0.000000</td>\n",
       "      <td>-3.759000</td>\n",
       "      <td>-100.000000</td>\n",
       "    </tr>\n",
       "    <tr>\n",
       "      <th>system_total_waiting_time</th>\n",
       "      <td>8487.730000</td>\n",
       "      <td>4201.209476</td>\n",
       "      <td>-4286.520524</td>\n",
       "      <td>-50.502555</td>\n",
       "    </tr>\n",
       "    <tr>\n",
       "      <th>system_mean_waiting_time</th>\n",
       "      <td>28.207088</td>\n",
       "      <td>27.608677</td>\n",
       "      <td>-0.598411</td>\n",
       "      <td>-2.121492</td>\n",
       "    </tr>\n",
       "    <tr>\n",
       "      <th>system_mean_speed</th>\n",
       "      <td>3.159753</td>\n",
       "      <td>5.700553</td>\n",
       "      <td>2.540799</td>\n",
       "      <td>80.411306</td>\n",
       "    </tr>\n",
       "  </tbody>\n",
       "</table>\n",
       "</div>"
      ],
      "text/plain": [
       "                              Baseline          New        Delta   Delta (%)\n",
       "step                        999.500000  1000.000000     0.500000    0.050025\n",
       "system_total_running        247.612500   140.847880  -106.764620  -43.117621\n",
       "system_total_backlogged       2.262000     3.546135     1.284135   56.769879\n",
       "system_total_stopped        149.823500    41.249377  -108.574123  -72.468020\n",
       "system_total_arrived        417.044500   522.271820   105.227320   25.231677\n",
       "system_total_departed       664.738000   663.119701    -1.618299   -0.243449\n",
       "system_total_teleported       3.759000     0.000000    -3.759000 -100.000000\n",
       "system_total_waiting_time  8487.730000  4201.209476 -4286.520524  -50.502555\n",
       "system_mean_waiting_time     28.207088    27.608677    -0.598411   -2.121492\n",
       "system_mean_speed             3.159753     5.700553     2.540799   80.411306"
      ]
     },
     "execution_count": 24,
     "metadata": {},
     "output_type": "execute_result"
    }
   ],
   "source": [
    "comparison_df"
   ]
  },
  {
   "cell_type": "code",
   "execution_count": null,
   "id": "ae858851",
   "metadata": {},
   "outputs": [],
   "source": []
  }
 ],
 "metadata": {
  "kernelspec": {
   "display_name": "ahsi",
   "language": "python",
   "name": "python3"
  },
  "language_info": {
   "codemirror_mode": {
    "name": "ipython",
    "version": 3
   },
   "file_extension": ".py",
   "mimetype": "text/x-python",
   "name": "python",
   "nbconvert_exporter": "python",
   "pygments_lexer": "ipython3",
   "version": "3.9.19"
  }
 },
 "nbformat": 4,
 "nbformat_minor": 5
}
