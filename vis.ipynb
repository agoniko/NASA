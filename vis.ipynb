{
 "cells": [
  {
   "cell_type": "code",
   "execution_count": 10,
   "id": "2ed72f88",
   "metadata": {},
   "outputs": [
    {
     "data": {
      "text/plain": [
       "step                          999.500000\n",
       "system_total_running          247.612500\n",
       "system_total_backlogged         2.262000\n",
       "system_total_stopped          149.823500\n",
       "system_total_arrived          417.044500\n",
       "system_total_departed         664.738000\n",
       "system_total_teleported         3.759000\n",
       "system_total_waiting_time    8487.730000\n",
       "system_mean_waiting_time       28.207088\n",
       "system_mean_speed               3.159753\n",
       "dtype: float64"
      ]
     },
     "execution_count": 10,
     "metadata": {},
     "output_type": "execute_result"
    }
   ],
   "source": [
    "import pandas as pd\n",
    "\n",
    "\n",
    "path = \"outputs/final/\"\n",
    "#read baseline file\n",
    "baseline = pd.read_csv(path+\"baseline.csv\")\n",
    "cols = baseline.columns\n",
    "baseline.mean()"
   ]
  },
  {
   "cell_type": "code",
   "execution_count": 14,
   "id": "7ba31a07",
   "metadata": {},
   "outputs": [
    {
     "data": {
      "text/plain": [
       "step                         1000.000000\n",
       "system_total_running          137.349127\n",
       "system_total_backlogged         2.246883\n",
       "system_total_stopped           36.421446\n",
       "system_total_arrived          527.069825\n",
       "system_total_departed         664.418953\n",
       "system_total_teleported         0.000000\n",
       "system_total_waiting_time    2239.089776\n",
       "system_mean_waiting_time       14.627302\n",
       "system_mean_speed               5.877644\n",
       "dtype: float64"
      ]
     },
     "execution_count": 14,
     "metadata": {},
     "output_type": "execute_result"
    }
   ],
   "source": [
    "#read all ql files\n",
    "import os\n",
    "\n",
    "ql_file = \"pz_ql_conn0_ep3.csv\"\n",
    "df = pd.read_csv(path+ql_file)\n",
    "df[cols].mean()"
   ]
  },
  {
   "cell_type": "code",
   "execution_count": null,
   "id": "edc21a59",
   "metadata": {},
   "outputs": [],
   "source": []
  }
 ],
 "metadata": {
  "kernelspec": {
   "display_name": "ahsi",
   "language": "python",
   "name": "python3"
  },
  "language_info": {
   "codemirror_mode": {
    "name": "ipython",
    "version": 3
   },
   "file_extension": ".py",
   "mimetype": "text/x-python",
   "name": "python",
   "nbconvert_exporter": "python",
   "pygments_lexer": "ipython3",
   "version": "3.9.19"
  }
 },
 "nbformat": 4,
 "nbformat_minor": 5
}
